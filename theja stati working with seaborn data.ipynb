{
 "cells": [
  {
   "cell_type": "code",
   "execution_count": null,
   "id": "0bf892be",
   "metadata": {},
   "outputs": [],
   "source": [
    "anagram=pd.read_csv(\"\")"
   ]
  },
  {
   "cell_type": "code",
   "execution_count": 1,
   "id": "afd102d8",
   "metadata": {},
   "outputs": [
    {
     "name": "stdout",
     "output_type": "stream",
     "text": [
      " Volume in drive C is OS\n",
      " Volume Serial Number is 68D7-27A6\n",
      "\n",
      " Directory of C:\\hello world\\ba\\pandas_docs (1)\n",
      "\n",
      "10/26/2023  10:25 AM    <DIR>          .\n",
      "10/15/2023  07:25 PM    <DIR>          ..\n",
      "10/16/2023  09:13 AM           131,519  for stati pandas groupby 50 =1.ipynb\n",
      "10/26/2023  10:23 AM    <DIR>          .ipynb_checkpoints\n",
      "10/09/2023  01:35 PM           540,200 amazon_laptop_prices_v01.csv\n",
      "10/15/2023  10:36 AM        46,131,166 archive (1).zip\n",
      "10/15/2023  10:38 AM        13,133,485 archive (2).zip\n",
      "10/15/2023  10:39 AM           285,582 archive (3).zip\n",
      "10/15/2023  10:34 AM            18,961 archive.zip\n",
      "07/31/2023  10:59 AM           307,392 ASSIGNMENT 1.ipynb\n",
      "08/07/2023  09:16 AM           344,981 ASSIGNMENT 2.ipynb\n",
      "08/13/2023  12:17 PM           146,396 ASSIGNMENT3.ipynb\n",
      "10/16/2023  11:02 AM           677,819 Billionaires statistics dataset.csv\n",
      "07/23/2023  05:31 PM               111 csv_mindex.csv\n",
      "08/08/2023  09:42 AM           210,776 DATA ANALYSIS - WRK1.ipynb\n",
      "07/24/2023  09:58 AM                87 data4new.csv\n",
      "08/22/2023  09:21 AM    <DIR>          data_scientist_salary\n",
      "08/22/2023  09:22 AM                22 data_scientist_salary.zip\n",
      "07/23/2023  05:31 PM                59 demo1.csv\n",
      "07/23/2023  05:31 PM            10,545 demo1.xlsx\n",
      "07/23/2023  05:31 PM                43 demo2.csv\n",
      "07/23/2023  05:31 PM               169 demo3.csv\n",
      "07/23/2023  05:31 PM               170 demo3.txt\n",
      "07/23/2023  05:31 PM               169 demo4.csv\n",
      "07/23/2023  05:31 PM                78 demo5.csv\n",
      "07/23/2023  05:31 PM           626,863 demo6.csv\n",
      "07/23/2023  05:31 PM                36 demo7.csv\n",
      "07/23/2023  05:31 PM             6,189 demo_file.xlsx\n",
      "08/22/2023  09:23 AM            36,960 ds_salaries.csv\n",
      "10/19/2023  10:58 AM            35,044 EDA ANALYSIS STATI.ipynb\n",
      "07/23/2023  05:31 PM           281,823 fdic_failed_bank_list.html\n",
      "07/23/2023  05:31 PM             2,681 final.csv\n",
      "10/18/2023  09:07 AM            56,797 for stati 2 .ipynb\n",
      "10/16/2023  11:10 AM         2,238,786 global weather.csv\n",
      "08/03/2023  10:48 AM             5,107 Iris.csv.xls\n",
      "10/19/2023  09:26 AM            64,589 laptop.zip\n",
      "10/19/2023  09:49 AM    <DIR>          laptop1\n",
      "10/19/2023  09:26 AM            64,589 laptop1.zip\n",
      "07/23/2023  05:31 PM               880 mango_pickle\n",
      "07/23/2023  05:31 PM            11,520 mydata.h5\n",
      "07/23/2023  05:31 PM                88 out.csv\n",
      "07/23/2023  05:31 PM             6,136 out2.csv\n",
      "07/23/2023  05:31 PM             6,136 out3.csv\n",
      "07/23/2023  05:31 PM             6,136 out5.csv\n",
      "07/23/2023  05:31 PM                58 out6.csv\n",
      "07/23/2023  05:31 PM             6,136 out7.csv\n",
      "07/23/2023  05:31 PM            32,948 output.csv\n",
      "07/31/2023  11:02 AM           270,390 practical implementation of data analysis wrk2.ipynb\n",
      "10/26/2023  10:20 AM    <DIR>          seaborn-data\n",
      "08/02/2023  10:35 AM           859,581 Stackoverflow2 (1).ipynb\n",
      "08/07/2023  08:21 PM         1,290,693 stackoverflow3 (2).ipynb\n",
      "07/30/2023  06:53 PM         1,908,954 stackoverflow_survey_analysis 1.ipynb\n",
      "10/26/2023  09:41 AM         4,363,593 stati3.ipynb\n",
      "07/23/2023  05:31 PM           400,602 stock_px.csv\n",
      "07/23/2023  05:31 PM       196,592,730 survey_results_public.csv\n",
      "07/23/2023  05:31 PM             9,857 survey_results_schema.csv\n",
      "07/23/2023  05:31 PM            32,948 survived.csv\n",
      "07/23/2023  05:31 PM               942 tasty_pickle\n",
      "07/23/2023  05:31 PM               118 test.tsv\n",
      "07/23/2023  05:31 PM                40 test_file.csv\n",
      "07/26/2023  01:43 PM    <DIR>          test_folder\n",
      "10/26/2023  10:25 AM               589 theja stati working with seaborn data.ipynb\n",
      "07/23/2023  05:31 PM            32,948 titan.csv\n",
      "08/03/2023  10:48 AM            61,194 Titanic-Dataset.xls\n",
      "07/23/2023  05:31 PM               102 tseries.csv\n",
      "              58 File(s)    271,254,513 bytes\n",
      "               7 Dir(s)  163,940,012,032 bytes free\n"
     ]
    }
   ],
   "source": []
  },
  {
   "cell_type": "code",
   "execution_count": null,
   "id": "b1776a63",
   "metadata": {},
   "outputs": [],
   "source": []
  }
 ],
 "metadata": {
  "kernelspec": {
   "display_name": "Python 3 (ipykernel)",
   "language": "python",
   "name": "python3"
  },
  "language_info": {
   "codemirror_mode": {
    "name": "ipython",
    "version": 3
   },
   "file_extension": ".py",
   "mimetype": "text/x-python",
   "name": "python",
   "nbconvert_exporter": "python",
   "pygments_lexer": "ipython3",
   "version": "3.10.9"
  }
 },
 "nbformat": 4,
 "nbformat_minor": 5
}
